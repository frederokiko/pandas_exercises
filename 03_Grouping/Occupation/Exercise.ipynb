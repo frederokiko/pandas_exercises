{
 "cells": [
  {
   "cell_type": "markdown",
   "metadata": {},
   "source": [
    "# Occupation"
   ]
  },
  {
   "cell_type": "markdown",
   "metadata": {},
   "source": [
    "### Introduction:\n",
    "\n",
    "Special thanks to: https://github.com/justmarkham for sharing the dataset and materials.\n",
    "\n",
    "### Step 1. Import the necessary libraries"
   ]
  },
  {
   "cell_type": "code",
   "execution_count": 1,
   "metadata": {
    "collapsed": false
   },
   "outputs": [],
   "source": [
    "import pandas as pd"
   ]
  },
  {
   "cell_type": "markdown",
   "metadata": {},
   "source": [
    "### Step 2. Import the dataset from this [address](https://raw.githubusercontent.com/justmarkham/DAT8/master/data/u.user). "
   ]
  },
  {
   "cell_type": "markdown",
   "metadata": {},
   "source": [
    "### Step 3. Assign it to a variable called users."
   ]
  },
  {
   "cell_type": "code",
   "execution_count": 2,
   "metadata": {
    "collapsed": false
   },
   "outputs": [],
   "source": [
    "url = 'https://raw.githubusercontent.com/justmarkham/DAT8/master/data/u.user'\n",
    "\n",
    "\n",
    "users = pd.read_csv(url, sep='|')"
   ]
  },
  {
   "cell_type": "code",
   "execution_count": 4,
   "metadata": {},
   "outputs": [
    {
     "output_type": "execute_result",
     "data": {
      "text/plain": [
       "   user_id  age gender  occupation zip_code\n",
       "0        1   24      M  technician    85711\n",
       "1        2   53      F       other    94043\n",
       "2        3   23      M      writer    32067\n",
       "3        4   24      M  technician    43537\n",
       "4        5   33      F       other    15213"
      ],
      "text/html": "<div>\n<style scoped>\n    .dataframe tbody tr th:only-of-type {\n        vertical-align: middle;\n    }\n\n    .dataframe tbody tr th {\n        vertical-align: top;\n    }\n\n    .dataframe thead th {\n        text-align: right;\n    }\n</style>\n<table border=\"1\" class=\"dataframe\">\n  <thead>\n    <tr style=\"text-align: right;\">\n      <th></th>\n      <th>user_id</th>\n      <th>age</th>\n      <th>gender</th>\n      <th>occupation</th>\n      <th>zip_code</th>\n    </tr>\n  </thead>\n  <tbody>\n    <tr>\n      <td>0</td>\n      <td>1</td>\n      <td>24</td>\n      <td>M</td>\n      <td>technician</td>\n      <td>85711</td>\n    </tr>\n    <tr>\n      <td>1</td>\n      <td>2</td>\n      <td>53</td>\n      <td>F</td>\n      <td>other</td>\n      <td>94043</td>\n    </tr>\n    <tr>\n      <td>2</td>\n      <td>3</td>\n      <td>23</td>\n      <td>M</td>\n      <td>writer</td>\n      <td>32067</td>\n    </tr>\n    <tr>\n      <td>3</td>\n      <td>4</td>\n      <td>24</td>\n      <td>M</td>\n      <td>technician</td>\n      <td>43537</td>\n    </tr>\n    <tr>\n      <td>4</td>\n      <td>5</td>\n      <td>33</td>\n      <td>F</td>\n      <td>other</td>\n      <td>15213</td>\n    </tr>\n  </tbody>\n</table>\n</div>"
     },
     "metadata": {},
     "execution_count": 4
    }
   ],
   "source": [
    "users.head()"
   ]
  },
  {
   "cell_type": "markdown",
   "metadata": {},
   "source": [
    "### Step 4. Discover what is the mean age per occupation"
   ]
  },
  {
   "cell_type": "code",
   "execution_count": 5,
   "metadata": {
    "collapsed": false
   },
   "outputs": [],
   "source": [
    "occupation_grp = users.groupby('occupation')"
   ]
  },
  {
   "cell_type": "code",
   "execution_count": 7,
   "metadata": {},
   "outputs": [
    {
     "output_type": "execute_result",
     "data": {
      "text/plain": [
       "occupation\n",
       "administrator    38.746835\n",
       "artist           31.392857\n",
       "doctor           43.571429\n",
       "educator         42.010526\n",
       "engineer         36.388060\n",
       "entertainment    29.222222\n",
       "executive        38.718750\n",
       "healthcare       41.562500\n",
       "homemaker        32.571429\n",
       "lawyer           36.750000\n",
       "librarian        40.000000\n",
       "marketing        37.615385\n",
       "none             26.555556\n",
       "other            34.523810\n",
       "programmer       33.121212\n",
       "retired          63.071429\n",
       "salesman         35.666667\n",
       "scientist        35.548387\n",
       "student          22.081633\n",
       "technician       33.148148\n",
       "writer           36.311111\n",
       "Name: age, dtype: float64"
      ]
     },
     "metadata": {},
     "execution_count": 7
    }
   ],
   "source": [
    "occupation_grp.age.mean()"
   ]
  },
  {
   "cell_type": "markdown",
   "metadata": {},
   "source": [
    "### Step 5. Discover the Male ratio per occupation and sort it from the most to the least"
   ]
  },
  {
   "cell_type": "code",
   "execution_count": 18,
   "metadata": {
    "collapsed": false
   },
   "outputs": [],
   "source": [
    "oc_gender_grp = users.groupby(['occupation','gender'])\n",
    "occupation_grp.mean()\n",
    "oc_gender_grp.mean()\n",
    "\n",
    "ratio = ((oc_gender_grp['gender'].count()/occupation_grp['gender'].count()) * 100).round(2)"
   ]
  },
  {
   "cell_type": "code",
   "execution_count": 33,
   "metadata": {},
   "outputs": [
    {
     "output_type": "execute_result",
     "data": {
      "text/plain": [
       "occupation     gender\n",
       "administrator  F          45.57\n",
       "               M          54.43\n",
       "artist         F          46.43\n",
       "               M          53.57\n",
       "doctor         M         100.00\n",
       "educator       F          27.37\n",
       "               M          72.63\n",
       "engineer       F           2.99\n",
       "               M          97.01\n",
       "entertainment  F          11.11\n",
       "               M          88.89\n",
       "executive      F           9.38\n",
       "               M          90.62\n",
       "healthcare     F          68.75\n",
       "               M          31.25\n",
       "homemaker      F          85.71\n",
       "               M          14.29\n",
       "lawyer         F          16.67\n",
       "               M          83.33\n",
       "librarian      F          56.86\n",
       "               M          43.14\n",
       "marketing      F          38.46\n",
       "               M          61.54\n",
       "none           F          44.44\n",
       "               M          55.56\n",
       "other          F          34.29\n",
       "               M          65.71\n",
       "programmer     F           9.09\n",
       "               M          90.91\n",
       "retired        F           7.14\n",
       "               M          92.86\n",
       "salesman       F          25.00\n",
       "               M          75.00\n",
       "scientist      F           9.68\n",
       "               M          90.32\n",
       "student        F          30.61\n",
       "               M          69.39\n",
       "technician     F           3.70\n",
       "               M          96.30\n",
       "writer         F          42.22\n",
       "               M          57.78\n",
       "Name: gender, dtype: float64"
      ]
     },
     "metadata": {},
     "execution_count": 33
    }
   ],
   "source": [
    "ratio.loc[:, ]"
   ]
  },
  {
   "cell_type": "markdown",
   "metadata": {},
   "source": [
    "### Step 6. For each occupation, calculate the minimum and maximum ages"
   ]
  },
  {
   "cell_type": "code",
   "execution_count": null,
   "metadata": {
    "collapsed": false
   },
   "outputs": [],
   "source": []
  },
  {
   "cell_type": "markdown",
   "metadata": {},
   "source": [
    "### Step 7. For each combination of occupation and gender, calculate the mean age"
   ]
  },
  {
   "cell_type": "code",
   "execution_count": 34,
   "metadata": {
    "collapsed": false
   },
   "outputs": [
    {
     "output_type": "execute_result",
     "data": {
      "text/plain": [
       "                         user_id        age\n",
       "occupation    gender                       \n",
       "administrator F       443.944444  40.638889\n",
       "              M       420.069767  37.162791\n",
       "artist        F       432.153846  30.307692\n",
       "              M       469.000000  32.333333\n",
       "doctor        M       533.714286  43.571429\n",
       "educator      F       454.730769  39.115385\n",
       "              M       471.492754  43.101449\n",
       "engineer      F       806.500000  29.500000\n",
       "              M       445.553846  36.600000\n",
       "entertainment F       780.000000  31.000000\n",
       "              M       350.250000  29.000000\n",
       "executive     F       373.000000  44.000000\n",
       "              M       427.413793  38.172414\n",
       "healthcare    F       568.454545  39.818182\n",
       "              M       354.000000  45.400000\n",
       "homemaker     F       367.166667  34.166667\n",
       "              M       898.000000  23.000000\n",
       "lawyer        F       285.000000  39.500000\n",
       "              M       373.900000  36.200000\n",
       "librarian     F       449.137931  40.000000\n",
       "              M       535.954545  40.000000\n",
       "marketing     F       443.300000  37.200000\n",
       "              M       434.375000  37.875000\n",
       "none          F       521.750000  36.500000\n",
       "              M       246.200000  18.600000\n",
       "other         F       474.666667  35.472222\n",
       "              M       578.246377  34.028986\n",
       "programmer    F       411.166667  32.166667\n",
       "              M       437.966667  33.216667\n",
       "retired       F       860.000000  70.000000\n",
       "              M       489.230769  62.538462\n",
       "salesman      F       637.666667  27.000000\n",
       "              M       447.333333  38.555556\n",
       "scientist     F       611.666667  28.333333\n",
       "              M       449.428571  36.321429\n",
       "student       F       497.533333  20.750000\n",
       "              M       479.404412  22.669118\n",
       "technician    F       938.000000  38.000000\n",
       "              M       480.692308  32.961538\n",
       "writer        F       536.052632  37.631579\n",
       "              M       466.230769  35.346154"
      ],
      "text/html": "<div>\n<style scoped>\n    .dataframe tbody tr th:only-of-type {\n        vertical-align: middle;\n    }\n\n    .dataframe tbody tr th {\n        vertical-align: top;\n    }\n\n    .dataframe thead th {\n        text-align: right;\n    }\n</style>\n<table border=\"1\" class=\"dataframe\">\n  <thead>\n    <tr style=\"text-align: right;\">\n      <th></th>\n      <th></th>\n      <th>user_id</th>\n      <th>age</th>\n    </tr>\n    <tr>\n      <th>occupation</th>\n      <th>gender</th>\n      <th></th>\n      <th></th>\n    </tr>\n  </thead>\n  <tbody>\n    <tr>\n      <td rowspan=\"2\" valign=\"top\">administrator</td>\n      <td>F</td>\n      <td>443.944444</td>\n      <td>40.638889</td>\n    </tr>\n    <tr>\n      <td>M</td>\n      <td>420.069767</td>\n      <td>37.162791</td>\n    </tr>\n    <tr>\n      <td rowspan=\"2\" valign=\"top\">artist</td>\n      <td>F</td>\n      <td>432.153846</td>\n      <td>30.307692</td>\n    </tr>\n    <tr>\n      <td>M</td>\n      <td>469.000000</td>\n      <td>32.333333</td>\n    </tr>\n    <tr>\n      <td>doctor</td>\n      <td>M</td>\n      <td>533.714286</td>\n      <td>43.571429</td>\n    </tr>\n    <tr>\n      <td rowspan=\"2\" valign=\"top\">educator</td>\n      <td>F</td>\n      <td>454.730769</td>\n      <td>39.115385</td>\n    </tr>\n    <tr>\n      <td>M</td>\n      <td>471.492754</td>\n      <td>43.101449</td>\n    </tr>\n    <tr>\n      <td rowspan=\"2\" valign=\"top\">engineer</td>\n      <td>F</td>\n      <td>806.500000</td>\n      <td>29.500000</td>\n    </tr>\n    <tr>\n      <td>M</td>\n      <td>445.553846</td>\n      <td>36.600000</td>\n    </tr>\n    <tr>\n      <td rowspan=\"2\" valign=\"top\">entertainment</td>\n      <td>F</td>\n      <td>780.000000</td>\n      <td>31.000000</td>\n    </tr>\n    <tr>\n      <td>M</td>\n      <td>350.250000</td>\n      <td>29.000000</td>\n    </tr>\n    <tr>\n      <td rowspan=\"2\" valign=\"top\">executive</td>\n      <td>F</td>\n      <td>373.000000</td>\n      <td>44.000000</td>\n    </tr>\n    <tr>\n      <td>M</td>\n      <td>427.413793</td>\n      <td>38.172414</td>\n    </tr>\n    <tr>\n      <td rowspan=\"2\" valign=\"top\">healthcare</td>\n      <td>F</td>\n      <td>568.454545</td>\n      <td>39.818182</td>\n    </tr>\n    <tr>\n      <td>M</td>\n      <td>354.000000</td>\n      <td>45.400000</td>\n    </tr>\n    <tr>\n      <td rowspan=\"2\" valign=\"top\">homemaker</td>\n      <td>F</td>\n      <td>367.166667</td>\n      <td>34.166667</td>\n    </tr>\n    <tr>\n      <td>M</td>\n      <td>898.000000</td>\n      <td>23.000000</td>\n    </tr>\n    <tr>\n      <td rowspan=\"2\" valign=\"top\">lawyer</td>\n      <td>F</td>\n      <td>285.000000</td>\n      <td>39.500000</td>\n    </tr>\n    <tr>\n      <td>M</td>\n      <td>373.900000</td>\n      <td>36.200000</td>\n    </tr>\n    <tr>\n      <td rowspan=\"2\" valign=\"top\">librarian</td>\n      <td>F</td>\n      <td>449.137931</td>\n      <td>40.000000</td>\n    </tr>\n    <tr>\n      <td>M</td>\n      <td>535.954545</td>\n      <td>40.000000</td>\n    </tr>\n    <tr>\n      <td rowspan=\"2\" valign=\"top\">marketing</td>\n      <td>F</td>\n      <td>443.300000</td>\n      <td>37.200000</td>\n    </tr>\n    <tr>\n      <td>M</td>\n      <td>434.375000</td>\n      <td>37.875000</td>\n    </tr>\n    <tr>\n      <td rowspan=\"2\" valign=\"top\">none</td>\n      <td>F</td>\n      <td>521.750000</td>\n      <td>36.500000</td>\n    </tr>\n    <tr>\n      <td>M</td>\n      <td>246.200000</td>\n      <td>18.600000</td>\n    </tr>\n    <tr>\n      <td rowspan=\"2\" valign=\"top\">other</td>\n      <td>F</td>\n      <td>474.666667</td>\n      <td>35.472222</td>\n    </tr>\n    <tr>\n      <td>M</td>\n      <td>578.246377</td>\n      <td>34.028986</td>\n    </tr>\n    <tr>\n      <td rowspan=\"2\" valign=\"top\">programmer</td>\n      <td>F</td>\n      <td>411.166667</td>\n      <td>32.166667</td>\n    </tr>\n    <tr>\n      <td>M</td>\n      <td>437.966667</td>\n      <td>33.216667</td>\n    </tr>\n    <tr>\n      <td rowspan=\"2\" valign=\"top\">retired</td>\n      <td>F</td>\n      <td>860.000000</td>\n      <td>70.000000</td>\n    </tr>\n    <tr>\n      <td>M</td>\n      <td>489.230769</td>\n      <td>62.538462</td>\n    </tr>\n    <tr>\n      <td rowspan=\"2\" valign=\"top\">salesman</td>\n      <td>F</td>\n      <td>637.666667</td>\n      <td>27.000000</td>\n    </tr>\n    <tr>\n      <td>M</td>\n      <td>447.333333</td>\n      <td>38.555556</td>\n    </tr>\n    <tr>\n      <td rowspan=\"2\" valign=\"top\">scientist</td>\n      <td>F</td>\n      <td>611.666667</td>\n      <td>28.333333</td>\n    </tr>\n    <tr>\n      <td>M</td>\n      <td>449.428571</td>\n      <td>36.321429</td>\n    </tr>\n    <tr>\n      <td rowspan=\"2\" valign=\"top\">student</td>\n      <td>F</td>\n      <td>497.533333</td>\n      <td>20.750000</td>\n    </tr>\n    <tr>\n      <td>M</td>\n      <td>479.404412</td>\n      <td>22.669118</td>\n    </tr>\n    <tr>\n      <td rowspan=\"2\" valign=\"top\">technician</td>\n      <td>F</td>\n      <td>938.000000</td>\n      <td>38.000000</td>\n    </tr>\n    <tr>\n      <td>M</td>\n      <td>480.692308</td>\n      <td>32.961538</td>\n    </tr>\n    <tr>\n      <td rowspan=\"2\" valign=\"top\">writer</td>\n      <td>F</td>\n      <td>536.052632</td>\n      <td>37.631579</td>\n    </tr>\n    <tr>\n      <td>M</td>\n      <td>466.230769</td>\n      <td>35.346154</td>\n    </tr>\n  </tbody>\n</table>\n</div>"
     },
     "metadata": {},
     "execution_count": 34
    }
   ],
   "source": [
    "oc_gender_grp.mean()"
   ]
  },
  {
   "cell_type": "markdown",
   "metadata": {},
   "source": [
    "### Step 8.  For each occupation present the percentage of women and men"
   ]
  },
  {
   "cell_type": "code",
   "execution_count": 52,
   "metadata": {
    "collapsed": false
   },
   "outputs": [
    {
     "output_type": "execute_result",
     "data": {
      "text/plain": [
       "occupation     gender\n",
       "administrator  M          54.430380\n",
       "               F          45.569620\n",
       "artist         M          53.571429\n",
       "               F          46.428571\n",
       "doctor         M         100.000000\n",
       "educator       M          72.631579\n",
       "               F          27.368421\n",
       "engineer       M          97.014925\n",
       "               F           2.985075\n",
       "entertainment  M          88.888889\n",
       "               F          11.111111\n",
       "executive      M          90.625000\n",
       "               F           9.375000\n",
       "healthcare     F          68.750000\n",
       "               M          31.250000\n",
       "homemaker      F          85.714286\n",
       "               M          14.285714\n",
       "lawyer         M          83.333333\n",
       "               F          16.666667\n",
       "librarian      F          56.862745\n",
       "               M          43.137255\n",
       "marketing      M          61.538462\n",
       "               F          38.461538\n",
       "none           M          55.555556\n",
       "               F          44.444444\n",
       "other          M          65.714286\n",
       "               F          34.285714\n",
       "programmer     M          90.909091\n",
       "               F           9.090909\n",
       "retired        M          92.857143\n",
       "               F           7.142857\n",
       "salesman       M          75.000000\n",
       "               F          25.000000\n",
       "scientist      M          90.322581\n",
       "               F           9.677419\n",
       "student        M          69.387755\n",
       "               F          30.612245\n",
       "technician     M          96.296296\n",
       "               F           3.703704\n",
       "writer         M          57.777778\n",
       "               F          42.222222\n",
       "Name: gender, dtype: float64"
      ]
     },
     "metadata": {},
     "execution_count": 52
    }
   ],
   "source": [
    "occupation_grp.gender.value_counts(normalize=True) * 100"
   ]
  },
  {
   "cell_type": "code",
   "execution_count": null,
   "metadata": {},
   "outputs": [],
   "source": []
  }
 ],
 "metadata": {
  "kernelspec": {
   "display_name": "Python 3",
   "language": "python",
   "name": "python3"
  },
  "language_info": {
   "codemirror_mode": {
    "name": "ipython",
    "version": 2
   },
   "file_extension": ".py",
   "mimetype": "text/x-python",
   "name": "python",
   "nbconvert_exporter": "python",
   "pygments_lexer": "ipython2",
   "version": "3.7.4-final"
  }
 },
 "nbformat": 4,
 "nbformat_minor": 0
}