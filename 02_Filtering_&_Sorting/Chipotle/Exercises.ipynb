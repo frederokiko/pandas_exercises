{
 "cells": [
  {
   "cell_type": "markdown",
   "metadata": {},
   "source": [
    "# Ex1 - Filtering and Sorting Data"
   ]
  },
  {
   "cell_type": "markdown",
   "metadata": {},
   "source": [
    "This time we are going to pull data directly from the internet.\n",
    "Special thanks to: https://github.com/justmarkham for sharing the dataset and materials.\n",
    "\n",
    "### Step 1. Import the necessary libraries"
   ]
  },
  {
   "cell_type": "code",
   "execution_count": 22,
   "metadata": {},
   "outputs": [],
   "source": [
    "import pandas as pd\n",
    "import numpy as np"
   ]
  },
  {
   "cell_type": "markdown",
   "metadata": {},
   "source": [
    "### Step 2. Import the dataset from this [address](https://raw.githubusercontent.com/justmarkham/DAT8/master/data/chipotle.tsv). "
   ]
  },
  {
   "cell_type": "markdown",
   "metadata": {},
   "source": [
    "### Step 3. Assign it to a variable called chipo."
   ]
  },
  {
   "cell_type": "code",
   "execution_count": 23,
   "metadata": {},
   "outputs": [],
   "source": [
    "url = 'https://raw.githubusercontent.com/justmarkham/DAT8/master/data/chipotle.tsv'\n",
    "\n",
    "chipo = pd.read_csv(url, sep='\\t', index_col=\"order_id\")"
   ]
  },
  {
   "cell_type": "code",
   "execution_count": 24,
   "metadata": {},
   "outputs": [
    {
     "output_type": "execute_result",
     "data": {
      "text/plain": [
       "          quantity                              item_name  \\\n",
       "order_id                                                    \n",
       "1                1           Chips and Fresh Tomato Salsa   \n",
       "1                1                                   Izze   \n",
       "1                1                       Nantucket Nectar   \n",
       "1                1  Chips and Tomatillo-Green Chili Salsa   \n",
       "2                2                           Chicken Bowl   \n",
       "...            ...                                    ...   \n",
       "1833             1                          Steak Burrito   \n",
       "1833             1                          Steak Burrito   \n",
       "1834             1                     Chicken Salad Bowl   \n",
       "1834             1                     Chicken Salad Bowl   \n",
       "1834             1                     Chicken Salad Bowl   \n",
       "\n",
       "                                         choice_description item_price  \n",
       "order_id                                                                \n",
       "1                                                       NaN     $2.39   \n",
       "1                                              [Clementine]     $3.39   \n",
       "1                                                   [Apple]     $3.39   \n",
       "1                                                       NaN     $2.39   \n",
       "2         [Tomatillo-Red Chili Salsa (Hot), [Black Beans...    $16.98   \n",
       "...                                                     ...        ...  \n",
       "1833      [Fresh Tomato Salsa, [Rice, Black Beans, Sour ...    $11.75   \n",
       "1833      [Fresh Tomato Salsa, [Rice, Sour Cream, Cheese...    $11.75   \n",
       "1834      [Fresh Tomato Salsa, [Fajita Vegetables, Pinto...    $11.25   \n",
       "1834      [Fresh Tomato Salsa, [Fajita Vegetables, Lettu...     $8.75   \n",
       "1834      [Fresh Tomato Salsa, [Fajita Vegetables, Pinto...     $8.75   \n",
       "\n",
       "[4622 rows x 4 columns]"
      ],
      "text/html": "<div>\n<style scoped>\n    .dataframe tbody tr th:only-of-type {\n        vertical-align: middle;\n    }\n\n    .dataframe tbody tr th {\n        vertical-align: top;\n    }\n\n    .dataframe thead th {\n        text-align: right;\n    }\n</style>\n<table border=\"1\" class=\"dataframe\">\n  <thead>\n    <tr style=\"text-align: right;\">\n      <th></th>\n      <th>quantity</th>\n      <th>item_name</th>\n      <th>choice_description</th>\n      <th>item_price</th>\n    </tr>\n    <tr>\n      <th>order_id</th>\n      <th></th>\n      <th></th>\n      <th></th>\n      <th></th>\n    </tr>\n  </thead>\n  <tbody>\n    <tr>\n      <td>1</td>\n      <td>1</td>\n      <td>Chips and Fresh Tomato Salsa</td>\n      <td>NaN</td>\n      <td>$2.39</td>\n    </tr>\n    <tr>\n      <td>1</td>\n      <td>1</td>\n      <td>Izze</td>\n      <td>[Clementine]</td>\n      <td>$3.39</td>\n    </tr>\n    <tr>\n      <td>1</td>\n      <td>1</td>\n      <td>Nantucket Nectar</td>\n      <td>[Apple]</td>\n      <td>$3.39</td>\n    </tr>\n    <tr>\n      <td>1</td>\n      <td>1</td>\n      <td>Chips and Tomatillo-Green Chili Salsa</td>\n      <td>NaN</td>\n      <td>$2.39</td>\n    </tr>\n    <tr>\n      <td>2</td>\n      <td>2</td>\n      <td>Chicken Bowl</td>\n      <td>[Tomatillo-Red Chili Salsa (Hot), [Black Beans...</td>\n      <td>$16.98</td>\n    </tr>\n    <tr>\n      <td>...</td>\n      <td>...</td>\n      <td>...</td>\n      <td>...</td>\n      <td>...</td>\n    </tr>\n    <tr>\n      <td>1833</td>\n      <td>1</td>\n      <td>Steak Burrito</td>\n      <td>[Fresh Tomato Salsa, [Rice, Black Beans, Sour ...</td>\n      <td>$11.75</td>\n    </tr>\n    <tr>\n      <td>1833</td>\n      <td>1</td>\n      <td>Steak Burrito</td>\n      <td>[Fresh Tomato Salsa, [Rice, Sour Cream, Cheese...</td>\n      <td>$11.75</td>\n    </tr>\n    <tr>\n      <td>1834</td>\n      <td>1</td>\n      <td>Chicken Salad Bowl</td>\n      <td>[Fresh Tomato Salsa, [Fajita Vegetables, Pinto...</td>\n      <td>$11.25</td>\n    </tr>\n    <tr>\n      <td>1834</td>\n      <td>1</td>\n      <td>Chicken Salad Bowl</td>\n      <td>[Fresh Tomato Salsa, [Fajita Vegetables, Lettu...</td>\n      <td>$8.75</td>\n    </tr>\n    <tr>\n      <td>1834</td>\n      <td>1</td>\n      <td>Chicken Salad Bowl</td>\n      <td>[Fresh Tomato Salsa, [Fajita Vegetables, Pinto...</td>\n      <td>$8.75</td>\n    </tr>\n  </tbody>\n</table>\n<p>4622 rows × 4 columns</p>\n</div>"
     },
     "metadata": {},
     "execution_count": 24
    }
   ],
   "source": [
    "chipo"
   ]
  },
  {
   "cell_type": "markdown",
   "metadata": {},
   "source": [
    "### Step 4. How many products cost more than $10.00?"
   ]
  },
  {
   "cell_type": "code",
   "execution_count": 25,
   "metadata": {},
   "outputs": [
    {
     "output_type": "execute_result",
     "data": {
      "text/plain": [
       "item_name    31\n",
       "dtype: int64"
      ]
     },
     "metadata": {},
     "execution_count": 25
    }
   ],
   "source": [
    "chipo.item_price = chipo.item_price.apply(lambda x: float(x[1:-1]))\n",
    "\n",
    "filt_more_ten = (chipo.item_price > 10)\n",
    "prod_over_ten = chipo[filt_more_ten]\n",
    "\n",
    "prod_over_ten.loc[:, [\"item_name\"]].nunique()\n"
   ]
  },
  {
   "cell_type": "markdown",
   "metadata": {},
   "source": [
    "### Step 5. What is the price of each item? \n",
    "###### print a data frame with only two columns item_name and item_price"
   ]
  },
  {
   "cell_type": "code",
   "execution_count": 39,
   "metadata": {},
   "outputs": [
    {
     "output_type": "execute_result",
     "data": {
      "text/plain": [
       "                                      item_name  item_price\n",
       "order_id                                                   \n",
       "1                  Chips and Fresh Tomato Salsa        2.39\n",
       "1                                          Izze        3.39\n",
       "1                              Nantucket Nectar        3.39\n",
       "1         Chips and Tomatillo-Green Chili Salsa        2.39\n",
       "2                                  Chicken Bowl       16.98\n",
       "...                                         ...         ...\n",
       "1833                              Steak Burrito       11.75\n",
       "1833                              Steak Burrito       11.75\n",
       "1834                         Chicken Salad Bowl       11.25\n",
       "1834                         Chicken Salad Bowl        8.75\n",
       "1834                         Chicken Salad Bowl        8.75\n",
       "\n",
       "[4622 rows x 2 columns]"
      ],
      "text/html": "<div>\n<style scoped>\n    .dataframe tbody tr th:only-of-type {\n        vertical-align: middle;\n    }\n\n    .dataframe tbody tr th {\n        vertical-align: top;\n    }\n\n    .dataframe thead th {\n        text-align: right;\n    }\n</style>\n<table border=\"1\" class=\"dataframe\">\n  <thead>\n    <tr style=\"text-align: right;\">\n      <th></th>\n      <th>item_name</th>\n      <th>item_price</th>\n    </tr>\n    <tr>\n      <th>order_id</th>\n      <th></th>\n      <th></th>\n    </tr>\n  </thead>\n  <tbody>\n    <tr>\n      <td>1</td>\n      <td>Chips and Fresh Tomato Salsa</td>\n      <td>2.39</td>\n    </tr>\n    <tr>\n      <td>1</td>\n      <td>Izze</td>\n      <td>3.39</td>\n    </tr>\n    <tr>\n      <td>1</td>\n      <td>Nantucket Nectar</td>\n      <td>3.39</td>\n    </tr>\n    <tr>\n      <td>1</td>\n      <td>Chips and Tomatillo-Green Chili Salsa</td>\n      <td>2.39</td>\n    </tr>\n    <tr>\n      <td>2</td>\n      <td>Chicken Bowl</td>\n      <td>16.98</td>\n    </tr>\n    <tr>\n      <td>...</td>\n      <td>...</td>\n      <td>...</td>\n    </tr>\n    <tr>\n      <td>1833</td>\n      <td>Steak Burrito</td>\n      <td>11.75</td>\n    </tr>\n    <tr>\n      <td>1833</td>\n      <td>Steak Burrito</td>\n      <td>11.75</td>\n    </tr>\n    <tr>\n      <td>1834</td>\n      <td>Chicken Salad Bowl</td>\n      <td>11.25</td>\n    </tr>\n    <tr>\n      <td>1834</td>\n      <td>Chicken Salad Bowl</td>\n      <td>8.75</td>\n    </tr>\n    <tr>\n      <td>1834</td>\n      <td>Chicken Salad Bowl</td>\n      <td>8.75</td>\n    </tr>\n  </tbody>\n</table>\n<p>4622 rows × 2 columns</p>\n</div>"
     },
     "metadata": {},
     "execution_count": 39
    }
   ],
   "source": [
    "chipo.loc[:, ['item_name', 'item_price']]\n",
    "\n",
    "# grp_name_chipo = chipo.groupby(by='item_name')"
   ]
  },
  {
   "cell_type": "code",
   "execution_count": 38,
   "metadata": {},
   "outputs": [
    {
     "output_type": "execute_result",
     "data": {
      "text/plain": [
       "                                       item_price\n",
       "item_name                                        \n",
       "6 Pack Soft Drink                              54\n",
       "Barbacoa Bowl                                  66\n",
       "Barbacoa Burrito                               91\n",
       "Barbacoa Crispy Tacos                          11\n",
       "Barbacoa Salad Bowl                            10\n",
       "Barbacoa Soft Tacos                            25\n",
       "Bottled Water                                 162\n",
       "Bowl                                            2\n",
       "Burrito                                         6\n",
       "Canned Soda                                   104\n",
       "Canned Soft Drink                             301\n",
       "Carnitas Bowl                                  68\n",
       "Carnitas Burrito                               59\n",
       "Carnitas Crispy Tacos                           7\n",
       "Carnitas Salad                                  1\n",
       "Carnitas Salad Bowl                             6\n",
       "Carnitas Soft Tacos                            40\n",
       "Chicken Bowl                                  726\n",
       "Chicken Burrito                               553\n",
       "Chicken Crispy Tacos                           47\n",
       "Chicken Salad                                   9\n",
       "Chicken Salad Bowl                            110\n",
       "Chicken Soft Tacos                            115\n",
       "Chips                                         211\n",
       "Chips and Fresh Tomato Salsa                  110\n",
       "Chips and Guacamole                           479\n",
       "Chips and Mild Fresh Tomato Salsa               1\n",
       "Chips and Roasted Chili Corn Salsa             22\n",
       "Chips and Roasted Chili-Corn Salsa             18\n",
       "Chips and Tomatillo Green Chili Salsa          43\n",
       "Chips and Tomatillo Red Chili Salsa            48\n",
       "Chips and Tomatillo-Green Chili Salsa          31\n",
       "Chips and Tomatillo-Red Chili Salsa            20\n",
       "Crispy Tacos                                    2\n",
       "Izze                                           20\n",
       "Nantucket Nectar                               27\n",
       "Salad                                           2\n",
       "Side of Chips                                 101\n",
       "Steak Bowl                                    211\n",
       "Steak Burrito                                 368\n",
       "Steak Crispy Tacos                             35\n",
       "Steak Salad                                     4\n",
       "Steak Salad Bowl                               29\n",
       "Steak Soft Tacos                               55\n",
       "Veggie Bowl                                    85\n",
       "Veggie Burrito                                 95\n",
       "Veggie Crispy Tacos                             1\n",
       "Veggie Salad                                    6\n",
       "Veggie Salad Bowl                              18\n",
       "Veggie Soft Tacos                               7"
      ],
      "text/html": "<div>\n<style scoped>\n    .dataframe tbody tr th:only-of-type {\n        vertical-align: middle;\n    }\n\n    .dataframe tbody tr th {\n        vertical-align: top;\n    }\n\n    .dataframe thead th {\n        text-align: right;\n    }\n</style>\n<table border=\"1\" class=\"dataframe\">\n  <thead>\n    <tr style=\"text-align: right;\">\n      <th></th>\n      <th>item_price</th>\n    </tr>\n    <tr>\n      <th>item_name</th>\n      <th></th>\n    </tr>\n  </thead>\n  <tbody>\n    <tr>\n      <td>6 Pack Soft Drink</td>\n      <td>54</td>\n    </tr>\n    <tr>\n      <td>Barbacoa Bowl</td>\n      <td>66</td>\n    </tr>\n    <tr>\n      <td>Barbacoa Burrito</td>\n      <td>91</td>\n    </tr>\n    <tr>\n      <td>Barbacoa Crispy Tacos</td>\n      <td>11</td>\n    </tr>\n    <tr>\n      <td>Barbacoa Salad Bowl</td>\n      <td>10</td>\n    </tr>\n    <tr>\n      <td>Barbacoa Soft Tacos</td>\n      <td>25</td>\n    </tr>\n    <tr>\n      <td>Bottled Water</td>\n      <td>162</td>\n    </tr>\n    <tr>\n      <td>Bowl</td>\n      <td>2</td>\n    </tr>\n    <tr>\n      <td>Burrito</td>\n      <td>6</td>\n    </tr>\n    <tr>\n      <td>Canned Soda</td>\n      <td>104</td>\n    </tr>\n    <tr>\n      <td>Canned Soft Drink</td>\n      <td>301</td>\n    </tr>\n    <tr>\n      <td>Carnitas Bowl</td>\n      <td>68</td>\n    </tr>\n    <tr>\n      <td>Carnitas Burrito</td>\n      <td>59</td>\n    </tr>\n    <tr>\n      <td>Carnitas Crispy Tacos</td>\n      <td>7</td>\n    </tr>\n    <tr>\n      <td>Carnitas Salad</td>\n      <td>1</td>\n    </tr>\n    <tr>\n      <td>Carnitas Salad Bowl</td>\n      <td>6</td>\n    </tr>\n    <tr>\n      <td>Carnitas Soft Tacos</td>\n      <td>40</td>\n    </tr>\n    <tr>\n      <td>Chicken Bowl</td>\n      <td>726</td>\n    </tr>\n    <tr>\n      <td>Chicken Burrito</td>\n      <td>553</td>\n    </tr>\n    <tr>\n      <td>Chicken Crispy Tacos</td>\n      <td>47</td>\n    </tr>\n    <tr>\n      <td>Chicken Salad</td>\n      <td>9</td>\n    </tr>\n    <tr>\n      <td>Chicken Salad Bowl</td>\n      <td>110</td>\n    </tr>\n    <tr>\n      <td>Chicken Soft Tacos</td>\n      <td>115</td>\n    </tr>\n    <tr>\n      <td>Chips</td>\n      <td>211</td>\n    </tr>\n    <tr>\n      <td>Chips and Fresh Tomato Salsa</td>\n      <td>110</td>\n    </tr>\n    <tr>\n      <td>Chips and Guacamole</td>\n      <td>479</td>\n    </tr>\n    <tr>\n      <td>Chips and Mild Fresh Tomato Salsa</td>\n      <td>1</td>\n    </tr>\n    <tr>\n      <td>Chips and Roasted Chili Corn Salsa</td>\n      <td>22</td>\n    </tr>\n    <tr>\n      <td>Chips and Roasted Chili-Corn Salsa</td>\n      <td>18</td>\n    </tr>\n    <tr>\n      <td>Chips and Tomatillo Green Chili Salsa</td>\n      <td>43</td>\n    </tr>\n    <tr>\n      <td>Chips and Tomatillo Red Chili Salsa</td>\n      <td>48</td>\n    </tr>\n    <tr>\n      <td>Chips and Tomatillo-Green Chili Salsa</td>\n      <td>31</td>\n    </tr>\n    <tr>\n      <td>Chips and Tomatillo-Red Chili Salsa</td>\n      <td>20</td>\n    </tr>\n    <tr>\n      <td>Crispy Tacos</td>\n      <td>2</td>\n    </tr>\n    <tr>\n      <td>Izze</td>\n      <td>20</td>\n    </tr>\n    <tr>\n      <td>Nantucket Nectar</td>\n      <td>27</td>\n    </tr>\n    <tr>\n      <td>Salad</td>\n      <td>2</td>\n    </tr>\n    <tr>\n      <td>Side of Chips</td>\n      <td>101</td>\n    </tr>\n    <tr>\n      <td>Steak Bowl</td>\n      <td>211</td>\n    </tr>\n    <tr>\n      <td>Steak Burrito</td>\n      <td>368</td>\n    </tr>\n    <tr>\n      <td>Steak Crispy Tacos</td>\n      <td>35</td>\n    </tr>\n    <tr>\n      <td>Steak Salad</td>\n      <td>4</td>\n    </tr>\n    <tr>\n      <td>Steak Salad Bowl</td>\n      <td>29</td>\n    </tr>\n    <tr>\n      <td>Steak Soft Tacos</td>\n      <td>55</td>\n    </tr>\n    <tr>\n      <td>Veggie Bowl</td>\n      <td>85</td>\n    </tr>\n    <tr>\n      <td>Veggie Burrito</td>\n      <td>95</td>\n    </tr>\n    <tr>\n      <td>Veggie Crispy Tacos</td>\n      <td>1</td>\n    </tr>\n    <tr>\n      <td>Veggie Salad</td>\n      <td>6</td>\n    </tr>\n    <tr>\n      <td>Veggie Salad Bowl</td>\n      <td>18</td>\n    </tr>\n    <tr>\n      <td>Veggie Soft Tacos</td>\n      <td>7</td>\n    </tr>\n  </tbody>\n</table>\n</div>"
     },
     "metadata": {},
     "execution_count": 38
    }
   ],
   "source": [
    "# grp_name_chipo.count().loc[:, [\"item_price\"]]"
   ]
  },
  {
   "cell_type": "markdown",
   "metadata": {},
   "source": [
    "### Step 6. Sort by the name of the item"
   ]
  },
  {
   "cell_type": "code",
   "execution_count": 28,
   "metadata": {},
   "outputs": [
    {
     "output_type": "execute_result",
     "data": {
      "text/plain": [
       "          quantity          item_name  \\\n",
       "order_id                                \n",
       "1360             2  6 Pack Soft Drink   \n",
       "148              1  6 Pack Soft Drink   \n",
       "749              1  6 Pack Soft Drink   \n",
       "754              1  6 Pack Soft Drink   \n",
       "1076             1  6 Pack Soft Drink   \n",
       "...            ...                ...   \n",
       "948              1  Veggie Soft Tacos   \n",
       "322              1  Veggie Soft Tacos   \n",
       "1132             1  Veggie Soft Tacos   \n",
       "688              1  Veggie Soft Tacos   \n",
       "567              1  Veggie Soft Tacos   \n",
       "\n",
       "                                         choice_description  item_price  \n",
       "order_id                                                                 \n",
       "1360                                            [Diet Coke]       12.98  \n",
       "148                                             [Diet Coke]        6.49  \n",
       "749                                                  [Coke]        6.49  \n",
       "754                                             [Diet Coke]        6.49  \n",
       "1076                                                 [Coke]        6.49  \n",
       "...                                                     ...         ...  \n",
       "948       [Roasted Chili Corn Salsa, [Fajita Vegetables,...        8.75  \n",
       "322       [Fresh Tomato Salsa, [Black Beans, Cheese, Sou...        8.75  \n",
       "1132      [Roasted Chili Corn Salsa (Medium), [Black Bea...        8.49  \n",
       "688       [Fresh Tomato Salsa, [Fajita Vegetables, Rice,...       11.25  \n",
       "567       [Fresh Tomato Salsa (Mild), [Pinto Beans, Rice...        8.49  \n",
       "\n",
       "[4622 rows x 4 columns]"
      ],
      "text/html": "<div>\n<style scoped>\n    .dataframe tbody tr th:only-of-type {\n        vertical-align: middle;\n    }\n\n    .dataframe tbody tr th {\n        vertical-align: top;\n    }\n\n    .dataframe thead th {\n        text-align: right;\n    }\n</style>\n<table border=\"1\" class=\"dataframe\">\n  <thead>\n    <tr style=\"text-align: right;\">\n      <th></th>\n      <th>quantity</th>\n      <th>item_name</th>\n      <th>choice_description</th>\n      <th>item_price</th>\n    </tr>\n    <tr>\n      <th>order_id</th>\n      <th></th>\n      <th></th>\n      <th></th>\n      <th></th>\n    </tr>\n  </thead>\n  <tbody>\n    <tr>\n      <td>1360</td>\n      <td>2</td>\n      <td>6 Pack Soft Drink</td>\n      <td>[Diet Coke]</td>\n      <td>12.98</td>\n    </tr>\n    <tr>\n      <td>148</td>\n      <td>1</td>\n      <td>6 Pack Soft Drink</td>\n      <td>[Diet Coke]</td>\n      <td>6.49</td>\n    </tr>\n    <tr>\n      <td>749</td>\n      <td>1</td>\n      <td>6 Pack Soft Drink</td>\n      <td>[Coke]</td>\n      <td>6.49</td>\n    </tr>\n    <tr>\n      <td>754</td>\n      <td>1</td>\n      <td>6 Pack Soft Drink</td>\n      <td>[Diet Coke]</td>\n      <td>6.49</td>\n    </tr>\n    <tr>\n      <td>1076</td>\n      <td>1</td>\n      <td>6 Pack Soft Drink</td>\n      <td>[Coke]</td>\n      <td>6.49</td>\n    </tr>\n    <tr>\n      <td>...</td>\n      <td>...</td>\n      <td>...</td>\n      <td>...</td>\n      <td>...</td>\n    </tr>\n    <tr>\n      <td>948</td>\n      <td>1</td>\n      <td>Veggie Soft Tacos</td>\n      <td>[Roasted Chili Corn Salsa, [Fajita Vegetables,...</td>\n      <td>8.75</td>\n    </tr>\n    <tr>\n      <td>322</td>\n      <td>1</td>\n      <td>Veggie Soft Tacos</td>\n      <td>[Fresh Tomato Salsa, [Black Beans, Cheese, Sou...</td>\n      <td>8.75</td>\n    </tr>\n    <tr>\n      <td>1132</td>\n      <td>1</td>\n      <td>Veggie Soft Tacos</td>\n      <td>[Roasted Chili Corn Salsa (Medium), [Black Bea...</td>\n      <td>8.49</td>\n    </tr>\n    <tr>\n      <td>688</td>\n      <td>1</td>\n      <td>Veggie Soft Tacos</td>\n      <td>[Fresh Tomato Salsa, [Fajita Vegetables, Rice,...</td>\n      <td>11.25</td>\n    </tr>\n    <tr>\n      <td>567</td>\n      <td>1</td>\n      <td>Veggie Soft Tacos</td>\n      <td>[Fresh Tomato Salsa (Mild), [Pinto Beans, Rice...</td>\n      <td>8.49</td>\n    </tr>\n  </tbody>\n</table>\n<p>4622 rows × 4 columns</p>\n</div>"
     },
     "metadata": {},
     "execution_count": 28
    }
   ],
   "source": [
    "chipo.sort_values(by=[\"item_name\"], ascending=True)"
   ]
  },
  {
   "cell_type": "markdown",
   "metadata": {},
   "source": [
    "### Step 7. What was the quantity of the most expensive item ordered?"
   ]
  },
  {
   "cell_type": "code",
   "execution_count": 44,
   "metadata": {},
   "outputs": [
    {
     "output_type": "execute_result",
     "data": {
      "text/plain": [
       "          quantity                     item_name choice_description  \\\n",
       "order_id                                                              \n",
       "1443            15  Chips and Fresh Tomato Salsa                NaN   \n",
       "\n",
       "          item_price  \n",
       "order_id              \n",
       "1443           44.25  "
      ],
      "text/html": "<div>\n<style scoped>\n    .dataframe tbody tr th:only-of-type {\n        vertical-align: middle;\n    }\n\n    .dataframe tbody tr th {\n        vertical-align: top;\n    }\n\n    .dataframe thead th {\n        text-align: right;\n    }\n</style>\n<table border=\"1\" class=\"dataframe\">\n  <thead>\n    <tr style=\"text-align: right;\">\n      <th></th>\n      <th>quantity</th>\n      <th>item_name</th>\n      <th>choice_description</th>\n      <th>item_price</th>\n    </tr>\n    <tr>\n      <th>order_id</th>\n      <th></th>\n      <th></th>\n      <th></th>\n      <th></th>\n    </tr>\n  </thead>\n  <tbody>\n    <tr>\n      <td>1443</td>\n      <td>15</td>\n      <td>Chips and Fresh Tomato Salsa</td>\n      <td>NaN</td>\n      <td>44.25</td>\n    </tr>\n  </tbody>\n</table>\n</div>"
     },
     "metadata": {},
     "execution_count": 44
    }
   ],
   "source": [
    "\n",
    "\n",
    "chipo.sort_values(by=\"item_price\", ascending=False).iloc[[0], :]"
   ]
  },
  {
   "cell_type": "markdown",
   "metadata": {},
   "source": [
    "### Step 8. How many times was a Veggie Salad Bowl ordered?"
   ]
  },
  {
   "cell_type": "code",
   "execution_count": 47,
   "metadata": {},
   "outputs": [
    {
     "output_type": "execute_result",
     "data": {
      "text/plain": [
       "quantity              18\n",
       "item_name             18\n",
       "choice_description    18\n",
       "item_price            18\n",
       "dtype: int64"
      ]
     },
     "metadata": {},
     "execution_count": 47
    }
   ],
   "source": [
    "filt_veg_sal = (chipo.item_name == \"Veggie Salad Bowl\")\n",
    "\n",
    "chipo[filt_veg_sal].count()"
   ]
  },
  {
   "cell_type": "markdown",
   "metadata": {},
   "source": [
    "### Step 9. How many times did someone order more than one Canned Soda?"
   ]
  },
  {
   "cell_type": "code",
   "execution_count": 50,
   "metadata": {},
   "outputs": [
    {
     "output_type": "execute_result",
     "data": {
      "text/plain": [
       "quantity              20\n",
       "item_name             20\n",
       "choice_description    20\n",
       "item_price            20\n",
       "dtype: int64"
      ]
     },
     "metadata": {},
     "execution_count": 50
    }
   ],
   "source": [
    "filt_more_one_soda = ((chipo.item_name == 'Canned Soda') & (chipo.quantity > 1))\n",
    "\n",
    "chipo[filt_more_one_soda].count()\n"
   ]
  },
  {
   "cell_type": "code",
   "execution_count": null,
   "metadata": {},
   "outputs": [],
   "source": []
  }
 ],
 "metadata": {
  "kernelspec": {
   "display_name": "Python 3",
   "language": "python",
   "name": "python3"
  },
  "language_info": {
   "codemirror_mode": {
    "name": "ipython",
    "version": 3
   },
   "file_extension": ".py",
   "mimetype": "text/x-python",
   "name": "python",
   "nbconvert_exporter": "python",
   "pygments_lexer": "ipython3",
   "version": "3.7.4-final"
  }
 },
 "nbformat": 4,
 "nbformat_minor": 1
}