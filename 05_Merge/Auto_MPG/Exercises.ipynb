{
 "cells": [
  {
   "cell_type": "markdown",
   "metadata": {},
   "source": [
    "# MPG Cars"
   ]
  },
  {
   "cell_type": "markdown",
   "metadata": {},
   "source": [
    "### Introduction:\n",
    "\n",
    "The following exercise utilizes data from [UC Irvine Machine Learning Repository](https://archive.ics.uci.edu/ml/datasets/Auto+MPG)\n",
    "\n",
    "### Step 1. Import the necessary libraries"
   ]
  },
  {
   "cell_type": "code",
   "execution_count": 32,
   "metadata": {
    "collapsed": false
   },
   "outputs": [],
   "source": [
    "import pandas as pd\n",
    "import numpy as np"
   ]
  },
  {
   "cell_type": "markdown",
   "metadata": {},
   "source": [
    "### Step 2. Import the first dataset [cars1](https://raw.githubusercontent.com/guipsamora/pandas_exercises/master/05_Merge/Auto_MPG/cars1.csv) and [cars2](https://raw.githubusercontent.com/guipsamora/pandas_exercises/master/05_Merge/Auto_MPG/cars2.csv).  "
   ]
  },
  {
   "cell_type": "markdown",
   "metadata": {},
   "source": [
    "   ### Step 3. Assign each to a variable called cars1 and cars2"
   ]
  },
  {
   "cell_type": "code",
   "execution_count": 3,
   "metadata": {
    "collapsed": false
   },
   "outputs": [
    {
     "output_type": "execute_result",
     "data": {
      "text/plain": [
       "    mpg  cylinders  displacement horsepower  weight  acceleration  model  \\\n",
       "0  18.0          8           307        130    3504          12.0     70   \n",
       "1  15.0          8           350        165    3693          11.5     70   \n",
       "2  18.0          8           318        150    3436          11.0     70   \n",
       "3  16.0          8           304        150    3433          12.0     70   \n",
       "4  17.0          8           302        140    3449          10.5     70   \n",
       "\n",
       "   origin                        car  Unnamed: 9  Unnamed: 10  Unnamed: 11  \\\n",
       "0       1  chevrolet chevelle malibu         NaN          NaN          NaN   \n",
       "1       1          buick skylark 320         NaN          NaN          NaN   \n",
       "2       1         plymouth satellite         NaN          NaN          NaN   \n",
       "3       1              amc rebel sst         NaN          NaN          NaN   \n",
       "4       1                ford torino         NaN          NaN          NaN   \n",
       "\n",
       "   Unnamed: 12  Unnamed: 13  \n",
       "0          NaN          NaN  \n",
       "1          NaN          NaN  \n",
       "2          NaN          NaN  \n",
       "3          NaN          NaN  \n",
       "4          NaN          NaN  "
      ],
      "text/html": "<div>\n<style scoped>\n    .dataframe tbody tr th:only-of-type {\n        vertical-align: middle;\n    }\n\n    .dataframe tbody tr th {\n        vertical-align: top;\n    }\n\n    .dataframe thead th {\n        text-align: right;\n    }\n</style>\n<table border=\"1\" class=\"dataframe\">\n  <thead>\n    <tr style=\"text-align: right;\">\n      <th></th>\n      <th>mpg</th>\n      <th>cylinders</th>\n      <th>displacement</th>\n      <th>horsepower</th>\n      <th>weight</th>\n      <th>acceleration</th>\n      <th>model</th>\n      <th>origin</th>\n      <th>car</th>\n      <th>Unnamed: 9</th>\n      <th>Unnamed: 10</th>\n      <th>Unnamed: 11</th>\n      <th>Unnamed: 12</th>\n      <th>Unnamed: 13</th>\n    </tr>\n  </thead>\n  <tbody>\n    <tr>\n      <td>0</td>\n      <td>18.0</td>\n      <td>8</td>\n      <td>307</td>\n      <td>130</td>\n      <td>3504</td>\n      <td>12.0</td>\n      <td>70</td>\n      <td>1</td>\n      <td>chevrolet chevelle malibu</td>\n      <td>NaN</td>\n      <td>NaN</td>\n      <td>NaN</td>\n      <td>NaN</td>\n      <td>NaN</td>\n    </tr>\n    <tr>\n      <td>1</td>\n      <td>15.0</td>\n      <td>8</td>\n      <td>350</td>\n      <td>165</td>\n      <td>3693</td>\n      <td>11.5</td>\n      <td>70</td>\n      <td>1</td>\n      <td>buick skylark 320</td>\n      <td>NaN</td>\n      <td>NaN</td>\n      <td>NaN</td>\n      <td>NaN</td>\n      <td>NaN</td>\n    </tr>\n    <tr>\n      <td>2</td>\n      <td>18.0</td>\n      <td>8</td>\n      <td>318</td>\n      <td>150</td>\n      <td>3436</td>\n      <td>11.0</td>\n      <td>70</td>\n      <td>1</td>\n      <td>plymouth satellite</td>\n      <td>NaN</td>\n      <td>NaN</td>\n      <td>NaN</td>\n      <td>NaN</td>\n      <td>NaN</td>\n    </tr>\n    <tr>\n      <td>3</td>\n      <td>16.0</td>\n      <td>8</td>\n      <td>304</td>\n      <td>150</td>\n      <td>3433</td>\n      <td>12.0</td>\n      <td>70</td>\n      <td>1</td>\n      <td>amc rebel sst</td>\n      <td>NaN</td>\n      <td>NaN</td>\n      <td>NaN</td>\n      <td>NaN</td>\n      <td>NaN</td>\n    </tr>\n    <tr>\n      <td>4</td>\n      <td>17.0</td>\n      <td>8</td>\n      <td>302</td>\n      <td>140</td>\n      <td>3449</td>\n      <td>10.5</td>\n      <td>70</td>\n      <td>1</td>\n      <td>ford torino</td>\n      <td>NaN</td>\n      <td>NaN</td>\n      <td>NaN</td>\n      <td>NaN</td>\n      <td>NaN</td>\n    </tr>\n  </tbody>\n</table>\n</div>"
     },
     "metadata": {},
     "execution_count": 3
    }
   ],
   "source": [
    "url1 = \"https://raw.githubusercontent.com/guipsamora/pandas_exercises/master/05_Merge/Auto_MPG/cars1.csv\"\n",
    "\n",
    "url2 = \"https://raw.githubusercontent.com/guipsamora/pandas_exercises/master/05_Merge/Auto_MPG/cars2.csv\"\n",
    "\n",
    "cars1 = pd.read_csv(url1, sep=',')\n",
    "cars2 = pd.read_csv(url2, sep=',')\n",
    "\n",
    "cars1.head()"
   ]
  },
  {
   "cell_type": "code",
   "execution_count": 20,
   "metadata": {},
   "outputs": [
    {
     "output_type": "execute_result",
     "data": {
      "text/plain": [
       "      mpg  cylinders  displacement horsepower  weight  acceleration  model  \\\n",
       "0    33.0          4            91         53    1795          17.4     76   \n",
       "1    20.0          6           225        100    3651          17.7     76   \n",
       "2    18.0          6           250         78    3574          21.0     76   \n",
       "3    18.5          6           250        110    3645          16.2     76   \n",
       "4    17.5          6           258         95    3193          17.8     76   \n",
       "..    ...        ...           ...        ...     ...           ...    ...   \n",
       "195  27.0          4           140         86    2790          15.6     82   \n",
       "196  44.0          4            97         52    2130          24.6     82   \n",
       "197  32.0          4           135         84    2295          11.6     82   \n",
       "198  28.0          4           120         79    2625          18.6     82   \n",
       "199  31.0          4           119         82    2720          19.4     82   \n",
       "\n",
       "     origin                 car  \n",
       "0         3         honda civic  \n",
       "1         1      dodge aspen se  \n",
       "2         1   ford granada ghia  \n",
       "3         1  pontiac ventura sj  \n",
       "4         1       amc pacer d/l  \n",
       "..      ...                 ...  \n",
       "195       1     ford mustang gl  \n",
       "196       2           vw pickup  \n",
       "197       1       dodge rampage  \n",
       "198       1         ford ranger  \n",
       "199       1          chevy s-10  \n",
       "\n",
       "[200 rows x 9 columns]"
      ],
      "text/html": "<div>\n<style scoped>\n    .dataframe tbody tr th:only-of-type {\n        vertical-align: middle;\n    }\n\n    .dataframe tbody tr th {\n        vertical-align: top;\n    }\n\n    .dataframe thead th {\n        text-align: right;\n    }\n</style>\n<table border=\"1\" class=\"dataframe\">\n  <thead>\n    <tr style=\"text-align: right;\">\n      <th></th>\n      <th>mpg</th>\n      <th>cylinders</th>\n      <th>displacement</th>\n      <th>horsepower</th>\n      <th>weight</th>\n      <th>acceleration</th>\n      <th>model</th>\n      <th>origin</th>\n      <th>car</th>\n    </tr>\n  </thead>\n  <tbody>\n    <tr>\n      <td>0</td>\n      <td>33.0</td>\n      <td>4</td>\n      <td>91</td>\n      <td>53</td>\n      <td>1795</td>\n      <td>17.4</td>\n      <td>76</td>\n      <td>3</td>\n      <td>honda civic</td>\n    </tr>\n    <tr>\n      <td>1</td>\n      <td>20.0</td>\n      <td>6</td>\n      <td>225</td>\n      <td>100</td>\n      <td>3651</td>\n      <td>17.7</td>\n      <td>76</td>\n      <td>1</td>\n      <td>dodge aspen se</td>\n    </tr>\n    <tr>\n      <td>2</td>\n      <td>18.0</td>\n      <td>6</td>\n      <td>250</td>\n      <td>78</td>\n      <td>3574</td>\n      <td>21.0</td>\n      <td>76</td>\n      <td>1</td>\n      <td>ford granada ghia</td>\n    </tr>\n    <tr>\n      <td>3</td>\n      <td>18.5</td>\n      <td>6</td>\n      <td>250</td>\n      <td>110</td>\n      <td>3645</td>\n      <td>16.2</td>\n      <td>76</td>\n      <td>1</td>\n      <td>pontiac ventura sj</td>\n    </tr>\n    <tr>\n      <td>4</td>\n      <td>17.5</td>\n      <td>6</td>\n      <td>258</td>\n      <td>95</td>\n      <td>3193</td>\n      <td>17.8</td>\n      <td>76</td>\n      <td>1</td>\n      <td>amc pacer d/l</td>\n    </tr>\n    <tr>\n      <td>...</td>\n      <td>...</td>\n      <td>...</td>\n      <td>...</td>\n      <td>...</td>\n      <td>...</td>\n      <td>...</td>\n      <td>...</td>\n      <td>...</td>\n      <td>...</td>\n    </tr>\n    <tr>\n      <td>195</td>\n      <td>27.0</td>\n      <td>4</td>\n      <td>140</td>\n      <td>86</td>\n      <td>2790</td>\n      <td>15.6</td>\n      <td>82</td>\n      <td>1</td>\n      <td>ford mustang gl</td>\n    </tr>\n    <tr>\n      <td>196</td>\n      <td>44.0</td>\n      <td>4</td>\n      <td>97</td>\n      <td>52</td>\n      <td>2130</td>\n      <td>24.6</td>\n      <td>82</td>\n      <td>2</td>\n      <td>vw pickup</td>\n    </tr>\n    <tr>\n      <td>197</td>\n      <td>32.0</td>\n      <td>4</td>\n      <td>135</td>\n      <td>84</td>\n      <td>2295</td>\n      <td>11.6</td>\n      <td>82</td>\n      <td>1</td>\n      <td>dodge rampage</td>\n    </tr>\n    <tr>\n      <td>198</td>\n      <td>28.0</td>\n      <td>4</td>\n      <td>120</td>\n      <td>79</td>\n      <td>2625</td>\n      <td>18.6</td>\n      <td>82</td>\n      <td>1</td>\n      <td>ford ranger</td>\n    </tr>\n    <tr>\n      <td>199</td>\n      <td>31.0</td>\n      <td>4</td>\n      <td>119</td>\n      <td>82</td>\n      <td>2720</td>\n      <td>19.4</td>\n      <td>82</td>\n      <td>1</td>\n      <td>chevy s-10</td>\n    </tr>\n  </tbody>\n</table>\n<p>200 rows × 9 columns</p>\n</div>"
     },
     "metadata": {},
     "execution_count": 20
    }
   ],
   "source": [
    "cars2"
   ]
  },
  {
   "cell_type": "markdown",
   "metadata": {},
   "source": [
    "### Step 4. Oops, it seems our first dataset has some unnamed blank columns, fix cars1"
   ]
  },
  {
   "cell_type": "code",
   "execution_count": 24,
   "metadata": {
    "collapsed": false
   },
   "outputs": [],
   "source": [
    "cars1.drop(cars1.loc[:, \"Unnamed: 9\":], axis=1, inplace=True)"
   ]
  },
  {
   "cell_type": "markdown",
   "metadata": {},
   "source": [
    "### Step 5. What is the number of observations in each dataset?"
   ]
  },
  {
   "cell_type": "code",
   "execution_count": 27,
   "metadata": {
    "collapsed": false
   },
   "outputs": [
    {
     "output_type": "stream",
     "name": "stdout",
     "text": [
      "<class 'pandas.core.frame.DataFrame'>\nRangeIndex: 198 entries, 0 to 197\nData columns (total 9 columns):\nmpg             198 non-null float64\ncylinders       198 non-null int64\ndisplacement    198 non-null int64\nhorsepower      198 non-null object\nweight          198 non-null int64\nacceleration    198 non-null float64\nmodel           198 non-null int64\norigin          198 non-null int64\ncar             198 non-null object\ndtypes: float64(2), int64(5), object(2)\nmemory usage: 14.0+ KB\n\tcars2\t\n<class 'pandas.core.frame.DataFrame'>\nRangeIndex: 200 entries, 0 to 199\nData columns (total 9 columns):\nmpg             200 non-null float64\ncylinders       200 non-null int64\ndisplacement    200 non-null int64\nhorsepower      200 non-null object\nweight          200 non-null int64\nacceleration    200 non-null float64\nmodel           200 non-null int64\norigin          200 non-null int64\ncar             200 non-null object\ndtypes: float64(2), int64(5), object(2)\nmemory usage: 14.2+ KB\n"
     ]
    }
   ],
   "source": [
    "cars1.info()\n",
    "print('\\tcars2\\t')\n",
    "cars2.info()"
   ]
  },
  {
   "cell_type": "markdown",
   "metadata": {},
   "source": [
    "### Step 6. Join cars1 and cars2 into a single DataFrame called cars"
   ]
  },
  {
   "cell_type": "code",
   "execution_count": 30,
   "metadata": {
    "collapsed": false
   },
   "outputs": [],
   "source": [
    "cars = pd.concat([cars1, cars2])"
   ]
  },
  {
   "cell_type": "markdown",
   "metadata": {},
   "source": [
    "### Step 7. Oops, there is a column missing, called owners. Create a random number Series from 15,000 to 73,000."
   ]
  },
  {
   "cell_type": "code",
   "execution_count": 40,
   "metadata": {
    "collapsed": false
   },
   "outputs": [],
   "source": [
    "owner_data = np.random.randint(15000, 73000, 398)\n",
    "owners = pd.Series(owner_data, name= 'owners')\n",
    "\n"
   ]
  },
  {
   "cell_type": "markdown",
   "metadata": {},
   "source": [
    "### Step 8. Add the column owners to cars"
   ]
  },
  {
   "cell_type": "code",
   "execution_count": 41,
   "metadata": {
    "collapsed": false
   },
   "outputs": [],
   "source": [
    "cars[\"owners\"]= owners"
   ]
  },
  {
   "cell_type": "code",
   "execution_count": 42,
   "metadata": {},
   "outputs": [
    {
     "output_type": "execute_result",
     "data": {
      "text/plain": [
       "      mpg  cylinders  displacement horsepower  weight  acceleration  model  \\\n",
       "0    18.0          8           307        130    3504          12.0     70   \n",
       "1    15.0          8           350        165    3693          11.5     70   \n",
       "2    18.0          8           318        150    3436          11.0     70   \n",
       "3    16.0          8           304        150    3433          12.0     70   \n",
       "4    17.0          8           302        140    3449          10.5     70   \n",
       "..    ...        ...           ...        ...     ...           ...    ...   \n",
       "195  27.0          4           140         86    2790          15.6     82   \n",
       "196  44.0          4            97         52    2130          24.6     82   \n",
       "197  32.0          4           135         84    2295          11.6     82   \n",
       "198  28.0          4           120         79    2625          18.6     82   \n",
       "199  31.0          4           119         82    2720          19.4     82   \n",
       "\n",
       "     origin                        car  owners  \n",
       "0         1  chevrolet chevelle malibu   37080  \n",
       "1         1          buick skylark 320   68300  \n",
       "2         1         plymouth satellite   57225  \n",
       "3         1              amc rebel sst   46001  \n",
       "4         1                ford torino   49317  \n",
       "..      ...                        ...     ...  \n",
       "195       1            ford mustang gl   61780  \n",
       "196       2                  vw pickup   43326  \n",
       "197       1              dodge rampage   23722  \n",
       "198       1                ford ranger   31733  \n",
       "199       1                 chevy s-10   58336  \n",
       "\n",
       "[398 rows x 10 columns]"
      ],
      "text/html": "<div>\n<style scoped>\n    .dataframe tbody tr th:only-of-type {\n        vertical-align: middle;\n    }\n\n    .dataframe tbody tr th {\n        vertical-align: top;\n    }\n\n    .dataframe thead th {\n        text-align: right;\n    }\n</style>\n<table border=\"1\" class=\"dataframe\">\n  <thead>\n    <tr style=\"text-align: right;\">\n      <th></th>\n      <th>mpg</th>\n      <th>cylinders</th>\n      <th>displacement</th>\n      <th>horsepower</th>\n      <th>weight</th>\n      <th>acceleration</th>\n      <th>model</th>\n      <th>origin</th>\n      <th>car</th>\n      <th>owners</th>\n    </tr>\n  </thead>\n  <tbody>\n    <tr>\n      <td>0</td>\n      <td>18.0</td>\n      <td>8</td>\n      <td>307</td>\n      <td>130</td>\n      <td>3504</td>\n      <td>12.0</td>\n      <td>70</td>\n      <td>1</td>\n      <td>chevrolet chevelle malibu</td>\n      <td>37080</td>\n    </tr>\n    <tr>\n      <td>1</td>\n      <td>15.0</td>\n      <td>8</td>\n      <td>350</td>\n      <td>165</td>\n      <td>3693</td>\n      <td>11.5</td>\n      <td>70</td>\n      <td>1</td>\n      <td>buick skylark 320</td>\n      <td>68300</td>\n    </tr>\n    <tr>\n      <td>2</td>\n      <td>18.0</td>\n      <td>8</td>\n      <td>318</td>\n      <td>150</td>\n      <td>3436</td>\n      <td>11.0</td>\n      <td>70</td>\n      <td>1</td>\n      <td>plymouth satellite</td>\n      <td>57225</td>\n    </tr>\n    <tr>\n      <td>3</td>\n      <td>16.0</td>\n      <td>8</td>\n      <td>304</td>\n      <td>150</td>\n      <td>3433</td>\n      <td>12.0</td>\n      <td>70</td>\n      <td>1</td>\n      <td>amc rebel sst</td>\n      <td>46001</td>\n    </tr>\n    <tr>\n      <td>4</td>\n      <td>17.0</td>\n      <td>8</td>\n      <td>302</td>\n      <td>140</td>\n      <td>3449</td>\n      <td>10.5</td>\n      <td>70</td>\n      <td>1</td>\n      <td>ford torino</td>\n      <td>49317</td>\n    </tr>\n    <tr>\n      <td>...</td>\n      <td>...</td>\n      <td>...</td>\n      <td>...</td>\n      <td>...</td>\n      <td>...</td>\n      <td>...</td>\n      <td>...</td>\n      <td>...</td>\n      <td>...</td>\n      <td>...</td>\n    </tr>\n    <tr>\n      <td>195</td>\n      <td>27.0</td>\n      <td>4</td>\n      <td>140</td>\n      <td>86</td>\n      <td>2790</td>\n      <td>15.6</td>\n      <td>82</td>\n      <td>1</td>\n      <td>ford mustang gl</td>\n      <td>61780</td>\n    </tr>\n    <tr>\n      <td>196</td>\n      <td>44.0</td>\n      <td>4</td>\n      <td>97</td>\n      <td>52</td>\n      <td>2130</td>\n      <td>24.6</td>\n      <td>82</td>\n      <td>2</td>\n      <td>vw pickup</td>\n      <td>43326</td>\n    </tr>\n    <tr>\n      <td>197</td>\n      <td>32.0</td>\n      <td>4</td>\n      <td>135</td>\n      <td>84</td>\n      <td>2295</td>\n      <td>11.6</td>\n      <td>82</td>\n      <td>1</td>\n      <td>dodge rampage</td>\n      <td>23722</td>\n    </tr>\n    <tr>\n      <td>198</td>\n      <td>28.0</td>\n      <td>4</td>\n      <td>120</td>\n      <td>79</td>\n      <td>2625</td>\n      <td>18.6</td>\n      <td>82</td>\n      <td>1</td>\n      <td>ford ranger</td>\n      <td>31733</td>\n    </tr>\n    <tr>\n      <td>199</td>\n      <td>31.0</td>\n      <td>4</td>\n      <td>119</td>\n      <td>82</td>\n      <td>2720</td>\n      <td>19.4</td>\n      <td>82</td>\n      <td>1</td>\n      <td>chevy s-10</td>\n      <td>58336</td>\n    </tr>\n  </tbody>\n</table>\n<p>398 rows × 10 columns</p>\n</div>"
     },
     "metadata": {},
     "execution_count": 42
    }
   ],
   "source": [
    "cars"
   ]
  },
  {
   "cell_type": "code",
   "execution_count": null,
   "metadata": {},
   "outputs": [],
   "source": []
  }
 ],
 "metadata": {
  "anaconda-cloud": {},
  "kernelspec": {
   "display_name": "Python 3",
   "language": "python",
   "name": "python3"
  },
  "language_info": {
   "codemirror_mode": {
    "name": "ipython",
    "version": 2
   },
   "file_extension": ".py",
   "mimetype": "text/x-python",
   "name": "python",
   "nbconvert_exporter": "python",
   "pygments_lexer": "ipython2",
   "version": "3.7.4-final"
  }
 },
 "nbformat": 4,
 "nbformat_minor": 0
}