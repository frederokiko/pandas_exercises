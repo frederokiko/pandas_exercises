{
 "cells": [
  {
   "cell_type": "markdown",
   "metadata": {},
   "source": [
    "# Medical Cost Personal Datasets\n",
    "### Insurance Forecast by using Linear Regression\n",
    "\n",
    "## About Dataset\n",
    "### Context\n",
    "Machine Learning with R by Brett Lantz is a book that provides an introduction to machine learning using R. As far as I can tell, Packt Publishing does not make its datasets available online unless you buy the book and create a user account which can be a problem if you are checking the book out from the library or borrowing the book from a friend. All of these datasets are in the public domain but simply needed some cleaning up and recoding to match the format in the book.\n",
    "\n",
    "### Content\n",
    "Columns\n",
    "\n",
    "+ age: age of primary beneficiary\n",
    "\n",
    "+ sex: insurance contractor gender, female, male\n",
    "\n",
    "+ bmi: Body mass index, providing an understanding of body, weights that are relatively high or low relative to height,\n",
    "objective index of body weight (kg / m ^ 2) using the ratio of height to weight, ideally 18.5 to 24.9\n",
    "\n",
    "+ children: Number of children covered by health insurance / Number of dependents\n",
    "\n",
    "+ smoker: Smoking\n",
    "\n",
    "+ region: the beneficiary's residential area in the US, northeast, southeast, southwest, northwest.\n",
    "\n",
    "+ charges: Individual medical costs billed by health insurance\n",
    "\n",
    "### Acknowledgements\n",
    "The dataset is available on GitHub [here](https://github.com/stedy/Machine-Learning-with-R-datasets).\n",
    "\n",
    "### Inspiration\n",
    "Can you accurately predict insurance costs?"
   ]
  }
 ],
 "metadata": {
  "kernelspec": {
   "display_name": "pythonAlgo",
   "language": "python",
   "name": "python3"
  },
  "language_info": {
   "codemirror_mode": {
    "name": "ipython",
    "version": 3
   },
   "file_extension": ".py",
   "mimetype": "text/x-python",
   "name": "python",
   "nbconvert_exporter": "python",
   "pygments_lexer": "ipython3",
   "version": "3.11.9"
  }
 },
 "nbformat": 4,
 "nbformat_minor": 2
}
